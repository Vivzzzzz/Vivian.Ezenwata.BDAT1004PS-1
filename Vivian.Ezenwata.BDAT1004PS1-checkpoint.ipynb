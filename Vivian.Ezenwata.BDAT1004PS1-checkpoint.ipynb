{
 "cells": [
  {
   "cell_type": "markdown",
   "id": "5358f7bf",
   "metadata": {},
   "source": [
    "#Question 1"
   ]
  },
  {
   "cell_type": "markdown",
   "id": "67019c03",
   "metadata": {},
   "source": [
    "What type data type is each of the following\n",
    "\n",
    "5 - integer\n",
    "\n",
    "5.0 - float\n",
    "\n",
    "5 > 1 - Boolean expression\n",
    "\n",
    "`5` - string\n",
    "\n",
    "5 * 2 - integer\n",
    "\n",
    "'5' * 2 - string\n",
    "\n",
    "'5' + '2' - string\n",
    "\n",
    "5 / 2 - float\n",
    "\n",
    "5 % 2 - integer\n",
    "\n",
    "{5, 2, 1} - set\n",
    "\n",
    "5 == 3 - Boolean expression\n",
    "\n",
    "Pi - float"
   ]
  },
  {
   "cell_type": "markdown",
   "id": "3fd7ecac",
   "metadata": {},
   "source": [
    "#Question 3"
   ]
  },
  {
   "cell_type": "markdown",
   "id": "c568525b",
   "metadata": {},
   "source": [
    "a.How much letters are there in 'Supercalifragilisticexpialidocious'?\n",
    "\n",
    "s = 'Supercalifragilisticexpialidocious'\n",
    "\n",
    "print(len(s))\n",
    "#34\n",
    "\n",
    "\n",
    "\n",
    "\n",
    "\n",
    "\n",
    "b. Does 'Supercalifragilisticexpialidocious' contain 'ice' as a substring? \n",
    "\n",
    "Yes\n",
    "\n",
    "word = 'Supercalifragilisticexpialidocious'\n",
    "\n",
    "#Check if 'ice' is a substring\n",
    "if 'ice' in word:\n",
    "    print(\"Yes, 'ice' is a substring in the word.\")\n",
    "else:\n",
    "    print(\"No, 'ice' is not a substring in the word.\")\n",
    "\n",
    "\n",
    "\n",
    "\n",
    "\n",
    "\n",
    "c.Which of the following words is the longest: \n",
    "Supercalifragilisticexpialidocious, HonorificabilitudinitatibusHonorificabilitudinitatibus, or \n",
    "Bababadalgharaghtakamminarronnkonn?\n",
    "\n",
    "words = [\"Supercalifragilisticexpialidocious\", \"HonorificabilitudinitatibusHonorificabilitudinitatibus\", \"Bababadalgharaghtakamminarronnkonn\"]\n",
    "#find the longest word\n",
    "longest_word = max(words, key=len)\n",
    "#Print the result\n",
    "print(\"The longest word is:\", longest_word)\n",
    "The longest word is: HonorificabilitudinitatibusHonorificabilitudinitatibus\n",
    "\n",
    "\n",
    "\n",
    "\n",
    "\n",
    "\n",
    "d.Which composer comes first in the dictionary: 'Berlioz', 'Borodin', 'Brian', \n",
    "'Bartok', 'Bellini', 'Buxtehude', 'Bernstein'. Which one comes last?\n",
    "\n",
    "\n",
    "composers = ['Berlioz', 'Borodin', 'Brian', 'Bartok', 'Bellini', 'Buxtehude', 'Bernstein']\n",
    "\n",
    "#Find the first and last composer in lexicographical order\n",
    "first_composer = min(composers)\n",
    "last_composer = max(composers)\n",
    "\n",
    "#Print the results\n",
    "print(\"First composer in the dictionary:\", first_composer)\n",
    "print(\"Last composer in the dictionary:\", last_composer)\n",
    "\n",
    "First composer in the dictionary: Bartok\n",
    "Last composer in the dictionary: Buxtehude\n"
   ]
  },
  {
   "cell_type": "markdown",
   "id": "0760e319",
   "metadata": {},
   "source": []
  },
  {
   "cell_type": "markdown",
   "id": "54eabb1b",
   "metadata": {},
   "source": [
    "#Question 3\n",
    "Implement function triangleArea(a,b,c) that takes as input the lengths of the 3\n",
    "sides of a triangle and returns the area of the triangle. By Heron's formula, the area \n",
    "of a triangle with side lengths a, b, and c is\n",
    "s(s - a)(s -b)(s -c)\n",
    ", where \n",
    "s = (a+b+c)/2. \n",
    "triangleArea(2,2,2)\n",
    "1.7320508075688772\n"
   ]
  },
  {
   "cell_type": "markdown",
   "id": "a4e11be7",
   "metadata": {},
   "source": [
    "import math\n",
    "\n",
    "def triangleArea(a, b, c):\n",
    "    s = (a + b + c) / 2\n",
    "    area = math.sqrt(s * (s - a) * (s - b) * (s - c))\n",
    "    return area\n",
    "\n",
    "print(triangleArea(2, 2, 2))\n",
    "1.7320508075688772"
   ]
  },
  {
   "cell_type": "markdown",
   "id": "a3bfed56",
   "metadata": {},
   "source": [
    "\n"
   ]
  },
  {
   "cell_type": "markdown",
   "id": "08025601",
   "metadata": {},
   "source": [
    "#Question 4\n",
    "Write a program in python to separate odd and even integers in separate arrays. Go \n",
    "to the editor\n",
    "Test Data :\n",
    "Input the number of elements to be stored in the array :5\n",
    "Input 5 elements in the array :\n",
    "element - 0 : 25\n",
    "element - 1 : 47\n",
    "element - 2 : 42\n",
    "element - 3 : 56\n",
    "element - 4 : 32\n",
    "Expected Output:\n",
    "The Even elements are:\n",
    "42 56 32\n",
    "The Odd elements are :\n",
    "25 47\n"
   ]
  },
  {
   "cell_type": "markdown",
   "id": "30705f3a",
   "metadata": {},
   "source": [
    "even_odd_list = [25, 47, 42, 56, 32]\n",
    "\n",
    "even = []\n",
    "\n",
    "odd = []\n",
    "\n",
    "for num in even_odd_list:\n",
    "if num % 2 == 0:\n",
    "even.append(num)\n",
    "else:\n",
    "odd.append(num)\n",
    "\n",
    "separated = []\n",
    "\n",
    "separated.append(even)\n",
    "\n",
    "separated.append(odd)\n",
    "\n",
    "print(separated)\n"
   ]
  },
  {
   "cell_type": "markdown",
   "id": "35ab79bb",
   "metadata": {},
   "source": [
    "#Question 5\n",
    "\n",
    "a. Write a function inside(x,y,x1,y1,x2,y2) that returns True or False \n",
    "depending on whether the point (x,y) lies in the rectangle with lower left \n",
    "corner (x1,y1) and upper right corner (x2,y2).\n",
    ">>> inside(1,1,0,0,2,3)\n",
    "True\n",
    ">>> inside(-1,-1,0,0,2,3)\n",
    "False\n"
   ]
  },
  {
   "cell_type": "markdown",
   "id": "0f0c0b92",
   "metadata": {},
   "source": [
    "def inside(x, y, x1, y1, x2, y2):\n",
    "    return x1 <= x <= x2 and y1 <= y <= y2\n",
    "\n",
    "print(inside(1, 1, 0, 0, 2, 3))   \n",
    "True\n",
    "\n",
    "print(inside(-1, -1, 0, 0, 2, 3))  \n",
    "False\n"
   ]
  },
  {
   "cell_type": "markdown",
   "id": "c09ab828",
   "metadata": {},
   "source": [
    "b. Use function inside() from part a. to write an expression that tests whether \n",
    "the point (1,1) lies in both of the following rectangles: one with lower left \n",
    "corner (0.3, 0.5) and upper right corner (1.1, 0.7) and the other with lower \n",
    "left corner (0.5, 0.2) and upper right corner (1.1, 2). "
   ]
  },
  {
   "cell_type": "markdown",
   "id": "d0d8e5cd",
   "metadata": {},
   "source": [
    "def inside(x, y, x1, y1, x2, y2):\n",
    "return x1 <= x <= x2 and y1 <= y <= y2\n",
    "if inside(1, 1, 0.3, 0.5, 1.1, 0.7) and inside(1, 1, 0.5, 0.2, 1.1, 2):\n",
    "print(\"The point (1, 1) lies in both rectangles.\")\n",
    "else:\n",
    "print(\"The point (1, 1) does not lie in bothe rectangles.\")\n",
    "\n",
    "The point (1, 1) does not lie in both rectangles.\n",
    "\n"
   ]
  },
  {
   "cell_type": "markdown",
   "id": "8ca73ff3",
   "metadata": {},
   "source": [
    "#Question 6\n",
    "You can turn a word into pig-Latin using the following two rules (simplified):\n",
    "• If the word starts with a consonant, move that letter to the end and append \n",
    "'ay'. For example, 'happy' becomes 'appyhay' and 'pencil' becomes 'encilpay'.\n",
    "• If the word starts with a vowel, simply append 'way' to the end of the word. \n",
    "For example, 'enter' becomes 'enterway' and 'other' becomes 'otherway' . For \n",
    "our purposes, there are 5 vowels: a, e, i, o, u (so we count y as a consonant).\n",
    "Write a function pig() that takes a word (i.e., a string) as input and returns its pig\u0002Latin form. Your function should still work if the input word contains upper case \n",
    "characters. Your output should always be lower case however. \n",
    ">>> pig('happy')\n",
    "'appyhay'\n",
    ">>> pig('Enter')\n",
    "'enterway'"
   ]
  },
  {
   "cell_type": "markdown",
   "id": "b3f67c20",
   "metadata": {},
   "source": [
    "def pig(word):\n",
    "    vowels = {'a', 'e', 'i', 'o', 'u'}\n",
    "    first_letter = word[0].lower()\n",
    "    if first_letter in vowels:\n",
    "       return word.lower() + 'way'\n",
    "    else:\n",
    "       return word[1:].lower() + first_letter + 'ay'\n",
    "\n",
    "print(pig('happy'))\n",
    "appyhay\n",
    "print(pig('Enter'))\n",
    "enterway\n"
   ]
  },
  {
   "cell_type": "markdown",
   "id": "ff14f86f",
   "metadata": {},
   "source": [
    "#Question 7\n",
    "\n",
    "File bloodtype1.txt records blood-types of patients (A, B, AB, O or OO) at a clinic. \n",
    "Write a function bldcount() that reads the file with name name and reports (i.e., \n",
    "prints) how many patients there are in each bloodtype.\n",
    ">>> bldcount('bloodtype.txt')\n",
    "There are 10 patients of blood type A.\n",
    "There is one patient of blood type B.\n",
    "There are 10 patients of blood type AB.\n",
    "There are 12 patients of blood type O.\n",
    "There are no patients of blood type OO"
   ]
  },
  {
   "cell_type": "markdown",
   "id": "c8f3965f",
   "metadata": {},
   "source": [
    "def bldcount(filename):\n",
    "    blood_counts = {'A': 0, 'B': 0, 'AB': 0, 'O': 0, 'OO': 0}\n",
    "    with open(filename, 'r') as file:\n",
    "        for line in file:\n",
    "            blood_type = line.strip()\n",
    "            blood_counts[blood_type] += 1\n",
    "\n",
    "    for blood_type, count in blood_counts.items():\n",
    "        if count == 1:\n",
    "            print(f'There is one patient of blood type {blood_type}.')\n",
    "        elif count > 1:\n",
    "            print(f'There are {count} patients of blood type {blood_type}.')\n",
    "        else:\n",
    "            print(f'There are no patients of blood type {blood_type}.')\n",
    "\n",
    "bldcount('bloodtype.txt')\n",
    "\n",
    "\n",
    "\n"
   ]
  },
  {
   "cell_type": "markdown",
   "id": "8bab4a2f",
   "metadata": {},
   "source": [
    "#Question 8\n",
    "\n",
    "Write a function curconv() that takes as input:\n",
    "1. a currency represented using a string (e.g., 'JPY' for the Japanese Yen or \n",
    "'EUR' for the Euro)\n",
    "2. an amount\n",
    "and then converts and returns the amount in US dollars.\n",
    ">>> curconv('EUR', 100)\n",
    "122.96544\n",
    ">>> curconv('JPY', 100)\n",
    "1.241401"
   ]
  },
  {
   "cell_type": "markdown",
   "id": "d034301a",
   "metadata": {},
   "source": [
    "The 'currencies.txt' file should be created in the same directory as your Python script so that the python will be able to read the currency from the 'currencies.txt' file without any issues.\n",
    "\n",
    "The code to follow after the above is done is:\n",
    "def curconv(currency, amount):\n",
    "    with open('currencies.txt', 'r') as file:\n",
    "    conversion_rates = dict(line.split()[:2] for line in file)\n",
    "return amount * float(conversion_rates.get(currency, 0))\n",
    "\n",
    "print(curconv('EUR', 100))\n",
    "print(curconv('JPY', 100))"
   ]
  },
  {
   "cell_type": "markdown",
   "id": "c02fa713",
   "metadata": {},
   "source": [
    "#Question 9\n",
    "\n",
    "Each of the following will cause an exception (an error). Identify what type of \n",
    "exception each will cause.\n",
    "Trying to add incompatible variables, as in \n",
    "adding 6 + ‘a’\n",
    "Referring to the 12th item of a list that has only 10 \n",
    "items\n",
    "Using a value that is out of range for a function’s \n",
    "input, such as calling math.sqrt(-1.0)\n",
    "Using an undeclared variable, such as print(x)\n",
    "when x has not been defined \n",
    "Trying to open a file that does not exist, such as \n",
    "mistyping the file name or looking in the wrong \n",
    "directory. \n"
   ]
  },
  {
   "cell_type": "markdown",
   "id": "d4b6d9d7",
   "metadata": {},
   "source": [
    "\n",
    "Trying to add incompatible variables, as in \n",
    "adding 6 + ‘a’    ------TypeError\n",
    "\n",
    "\n",
    "Referring to the 12th item of a list that has only 10 \n",
    "items              ------------IndexError\n",
    "\n",
    "\n",
    "Using a value that is out of range for a function’s \n",
    "input, such as calling math.sqrt(-1.0)         ----------ValueError\n",
    "\n",
    "\n",
    "Using an undeclared variable, such as print(x)\n",
    "when x has not been defined         ------------NameError\n",
    "\n",
    "\n",
    "Trying to open a file that does not exist, such as \n",
    "mistyping the file name or looking in the wrong \n",
    "directory.                        ----------NameNotFoundError\n"
   ]
  },
  {
   "cell_type": "markdown",
   "id": "cec2434f",
   "metadata": {},
   "source": [
    "#Question 10\n",
    "\n",
    "Write a function called frequencies()\n",
    "that takes a string as its only parameter, and returns a list of integers, showing the \n",
    "number of times each character appears in the text. Your function may ignore any \n",
    "characters that are not in letters."
   ]
  },
  {
   "cell_type": "markdown",
   "id": "c1ff6f66",
   "metadata": {},
   "source": [
    "def frequencies(text):\n",
    "    letters = 'abcdefghijklmnopqrstuvwxyz'\n",
    "    counts = [text.count(letter) for letter in letters]\n",
    "    return counts\n",
    "    \n",
    "print(frequencies('The quick red fox got bored and went home'))\n",
    "\n",
    "print(frequencies('apple'))\n"
   ]
  }
 ],
 "metadata": {
  "kernelspec": {
   "display_name": "Python 3 (ipykernel)",
   "language": "python",
   "name": "python3"
  },
  "language_info": {
   "codemirror_mode": {
    "name": "ipython",
    "version": 3
   },
   "file_extension": ".py",
   "mimetype": "text/x-python",
   "name": "python",
   "nbconvert_exporter": "python",
   "pygments_lexer": "ipython3",
   "version": "3.11.5"
  }
 },
 "nbformat": 4,
 "nbformat_minor": 5
}
